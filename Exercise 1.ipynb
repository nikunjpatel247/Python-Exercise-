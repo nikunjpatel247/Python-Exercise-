{
 "cells": [
  {
   "cell_type": "code",
   "execution_count": 2,
   "id": "0229e565",
   "metadata": {},
   "outputs": [
    {
     "name": "stdout",
     "output_type": "stream",
     "text": [
      "Enter a number: 7\n",
      "The factorial of 7 is 5040\n"
     ]
    }
   ],
   "source": [
    "#factorail of a number\n",
    "\n",
    "num = int(input(\"Enter a number: \"))\n",
    "\n",
    "factorial = 1\n",
    "\n",
    "# check if the number is negative, positive or zero\n",
    "if num < 0:\n",
    "   print(\"Sorry, factorial does not exist for negative numbers\")\n",
    "elif num == 0:\n",
    "   print(\"The factorial of 0 is 1\")\n",
    "else:\n",
    "   for i in range(1,num + 1):\n",
    "       factorial = factorial*i\n",
    "   print(\"The factorial of\",num,\"is\",factorial)"
   ]
  },
  {
   "cell_type": "code",
   "execution_count": 5,
   "id": "2251fe7d",
   "metadata": {},
   "outputs": [
    {
     "name": "stdout",
     "output_type": "stream",
     "text": [
      "sum =  46\n",
      "average =  5.75\n"
     ]
    }
   ],
   "source": [
    "#Take a input of list and find sum and average of that list\n",
    "\n",
    "L = [4, 5, 1, 2, 9, 7, 10, 8]\n",
    "  \n",
    "  \n",
    "# variable to store the sum of \n",
    "# the list\n",
    "count = 0\n",
    "  \n",
    "# Finding the sum\n",
    "for i in L:\n",
    "    count += i\n",
    "      \n",
    "# divide the total elements by\n",
    "# number of elements\n",
    "avg = count/len(L)\n",
    "  \n",
    "print(\"sum = \", count)\n",
    "print(\"average = \", avg)"
   ]
  },
  {
   "cell_type": "code",
   "execution_count": 10,
   "id": "f67bb2b3",
   "metadata": {},
   "outputs": [
    {
     "name": "stdout",
     "output_type": "stream",
     "text": [
      "h -  1\n",
      "e -  1\n",
      "l -  3\n",
      "o -  2\n",
      "w -  1\n",
      "r -  1\n",
      "d -  1\n"
     ]
    }
   ],
   "source": [
    "#have a string, find out number of occurance of each latter \n",
    "\n",
    "def count_char(text):\n",
    "  for i in range(len(text)):\n",
    "    if len(text) == 0:\n",
    "      break;\n",
    "    ch = text[0]\n",
    "    if ch == ' ' or ch == '\\t':\n",
    "      continue\n",
    "    print(ch + \" - \", text.count(ch))\n",
    "    text = text.replace(ch, '').strip()\n",
    "\n",
    "count_char('hello world')"
   ]
  },
  {
   "cell_type": "code",
   "execution_count": null,
   "id": "3bcc588f",
   "metadata": {},
   "outputs": [],
   "source": []
  }
 ],
 "metadata": {
  "kernelspec": {
   "display_name": "Python 3 (ipykernel)",
   "language": "python",
   "name": "python3"
  },
  "language_info": {
   "codemirror_mode": {
    "name": "ipython",
    "version": 3
   },
   "file_extension": ".py",
   "mimetype": "text/x-python",
   "name": "python",
   "nbconvert_exporter": "python",
   "pygments_lexer": "ipython3",
   "version": "3.9.7"
  }
 },
 "nbformat": 4,
 "nbformat_minor": 5
}
